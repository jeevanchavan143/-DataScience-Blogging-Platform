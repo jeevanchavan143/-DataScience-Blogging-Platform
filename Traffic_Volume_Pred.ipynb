{
  "nbformat": 4,
  "nbformat_minor": 0,
  "metadata": {
    "colab": {
      "name": "Traffic_Volume_Pred.ipynb",
      "provenance": [],
      "collapsed_sections": [],
      "authorship_tag": "ABX9TyOjnm1GKVtFrtp2rcmThanB",
      "include_colab_link": true
    },
    "kernelspec": {
      "name": "python3",
      "display_name": "Python 3"
    },
    "language_info": {
      "name": "python"
    }
  },
  "cells": [
    {
      "cell_type": "markdown",
      "metadata": {
        "id": "view-in-github",
        "colab_type": "text"
      },
      "source": [
        "<a href=\"https://colab.research.google.com/github/jeevanchavan143/-DataScience-Blogging-Platform/blob/master/Traffic_Volume_Pred.ipynb\" target=\"_parent\"><img src=\"https://colab.research.google.com/assets/colab-badge.svg\" alt=\"Open In Colab\"/></a>"
      ]
    },
    {
      "cell_type": "code",
      "metadata": {
        "id": "7AOtgaDedJoh"
      },
      "source": [
        "#Loading libraries  \n",
        "import numpy as np  \n",
        "import pandas as pd \n",
        "import matplotlib.pyplot as plt\n",
        "import seaborn as sns  \n",
        "%matplotlib inline \n",
        "plt.rcParams['figure.figsize'] = (10.0, 8.0) \n"
      ],
      "execution_count": 88,
      "outputs": []
    },
    {
      "cell_type": "code",
      "metadata": {
        "id": "eIrnAlgoeYJY"
      },
      "source": [
        "#loading data \n",
        "train = pd.read_csv(\"/content/Train.csv\") \n",
        "test = pd.read_csv(\"/content/Test.csv\")  "
      ],
      "execution_count": 89,
      "outputs": []
    },
    {
      "cell_type": "code",
      "metadata": {
        "colab": {
          "base_uri": "https://localhost:8080/"
        },
        "id": "A5eFsJzry_sG",
        "outputId": "ad90b584-ca6f-4c9d-f3cf-7397ca8f2fb8"
      },
      "source": [
        "train.columns"
      ],
      "execution_count": 90,
      "outputs": [
        {
          "output_type": "execute_result",
          "data": {
            "text/plain": [
              "Index(['date_time', 'is_holiday', 'air_pollution_index', 'humidity',\n",
              "       'wind_speed', 'wind_direction', 'visibility_in_miles', 'dew_point',\n",
              "       'temperature', 'rain_p_h', 'snow_p_h', 'clouds_all', 'weather_type',\n",
              "       'weather_description', 'traffic_volume'],\n",
              "      dtype='object')"
            ]
          },
          "metadata": {
            "tags": []
          },
          "execution_count": 90
        }
      ]
    },
    {
      "cell_type": "code",
      "metadata": {
        "colab": {
          "base_uri": "https://localhost:8080/"
        },
        "id": "t9r-ZpRlzCkV",
        "outputId": "6d6a46b8-8dfe-4cf8-917f-c8e827bb9c3c"
      },
      "source": [
        "test.columns"
      ],
      "execution_count": 91,
      "outputs": [
        {
          "output_type": "execute_result",
          "data": {
            "text/plain": [
              "Index(['date_time', 'is_holiday', 'air_pollution_index', 'humidity',\n",
              "       'wind_speed', 'wind_direction', 'visibility_in_miles', 'dew_point',\n",
              "       'temperature', 'rain_p_h', 'snow_p_h', 'clouds_all', 'weather_type',\n",
              "       'weather_description'],\n",
              "      dtype='object')"
            ]
          },
          "metadata": {
            "tags": []
          },
          "execution_count": 91
        }
      ]
    },
    {
      "cell_type": "code",
      "metadata": {
        "colab": {
          "base_uri": "https://localhost:8080/",
          "height": 395
        },
        "id": "cMSIspGTtGJr",
        "outputId": "a7c27c9a-d625-4179-c655-2c8cabf8c796"
      },
      "source": [
        "train.head()"
      ],
      "execution_count": 92,
      "outputs": [
        {
          "output_type": "execute_result",
          "data": {
            "text/html": [
              "<div>\n",
              "<style scoped>\n",
              "    .dataframe tbody tr th:only-of-type {\n",
              "        vertical-align: middle;\n",
              "    }\n",
              "\n",
              "    .dataframe tbody tr th {\n",
              "        vertical-align: top;\n",
              "    }\n",
              "\n",
              "    .dataframe thead th {\n",
              "        text-align: right;\n",
              "    }\n",
              "</style>\n",
              "<table border=\"1\" class=\"dataframe\">\n",
              "  <thead>\n",
              "    <tr style=\"text-align: right;\">\n",
              "      <th></th>\n",
              "      <th>date_time</th>\n",
              "      <th>is_holiday</th>\n",
              "      <th>air_pollution_index</th>\n",
              "      <th>humidity</th>\n",
              "      <th>wind_speed</th>\n",
              "      <th>wind_direction</th>\n",
              "      <th>visibility_in_miles</th>\n",
              "      <th>dew_point</th>\n",
              "      <th>temperature</th>\n",
              "      <th>rain_p_h</th>\n",
              "      <th>snow_p_h</th>\n",
              "      <th>clouds_all</th>\n",
              "      <th>weather_type</th>\n",
              "      <th>weather_description</th>\n",
              "      <th>traffic_volume</th>\n",
              "    </tr>\n",
              "  </thead>\n",
              "  <tbody>\n",
              "    <tr>\n",
              "      <th>0</th>\n",
              "      <td>2012-10-02 09:00:00</td>\n",
              "      <td>None</td>\n",
              "      <td>121</td>\n",
              "      <td>89</td>\n",
              "      <td>2</td>\n",
              "      <td>329</td>\n",
              "      <td>1</td>\n",
              "      <td>1</td>\n",
              "      <td>288.28</td>\n",
              "      <td>0.0</td>\n",
              "      <td>0.0</td>\n",
              "      <td>40</td>\n",
              "      <td>Clouds</td>\n",
              "      <td>scattered clouds</td>\n",
              "      <td>5545</td>\n",
              "    </tr>\n",
              "    <tr>\n",
              "      <th>1</th>\n",
              "      <td>2012-10-02 10:00:00</td>\n",
              "      <td>None</td>\n",
              "      <td>178</td>\n",
              "      <td>67</td>\n",
              "      <td>3</td>\n",
              "      <td>330</td>\n",
              "      <td>1</td>\n",
              "      <td>1</td>\n",
              "      <td>289.36</td>\n",
              "      <td>0.0</td>\n",
              "      <td>0.0</td>\n",
              "      <td>75</td>\n",
              "      <td>Clouds</td>\n",
              "      <td>broken clouds</td>\n",
              "      <td>4516</td>\n",
              "    </tr>\n",
              "    <tr>\n",
              "      <th>2</th>\n",
              "      <td>2012-10-02 11:00:00</td>\n",
              "      <td>None</td>\n",
              "      <td>113</td>\n",
              "      <td>66</td>\n",
              "      <td>3</td>\n",
              "      <td>329</td>\n",
              "      <td>2</td>\n",
              "      <td>2</td>\n",
              "      <td>289.58</td>\n",
              "      <td>0.0</td>\n",
              "      <td>0.0</td>\n",
              "      <td>90</td>\n",
              "      <td>Clouds</td>\n",
              "      <td>overcast clouds</td>\n",
              "      <td>4767</td>\n",
              "    </tr>\n",
              "    <tr>\n",
              "      <th>3</th>\n",
              "      <td>2012-10-02 12:00:00</td>\n",
              "      <td>None</td>\n",
              "      <td>20</td>\n",
              "      <td>66</td>\n",
              "      <td>3</td>\n",
              "      <td>329</td>\n",
              "      <td>5</td>\n",
              "      <td>5</td>\n",
              "      <td>290.13</td>\n",
              "      <td>0.0</td>\n",
              "      <td>0.0</td>\n",
              "      <td>90</td>\n",
              "      <td>Clouds</td>\n",
              "      <td>overcast clouds</td>\n",
              "      <td>5026</td>\n",
              "    </tr>\n",
              "    <tr>\n",
              "      <th>4</th>\n",
              "      <td>2012-10-02 13:00:00</td>\n",
              "      <td>None</td>\n",
              "      <td>281</td>\n",
              "      <td>65</td>\n",
              "      <td>3</td>\n",
              "      <td>329</td>\n",
              "      <td>7</td>\n",
              "      <td>7</td>\n",
              "      <td>291.14</td>\n",
              "      <td>0.0</td>\n",
              "      <td>0.0</td>\n",
              "      <td>75</td>\n",
              "      <td>Clouds</td>\n",
              "      <td>broken clouds</td>\n",
              "      <td>4918</td>\n",
              "    </tr>\n",
              "  </tbody>\n",
              "</table>\n",
              "</div>"
            ],
            "text/plain": [
              "             date_time is_holiday  ...  weather_description  traffic_volume\n",
              "0  2012-10-02 09:00:00       None  ...     scattered clouds            5545\n",
              "1  2012-10-02 10:00:00       None  ...        broken clouds            4516\n",
              "2  2012-10-02 11:00:00       None  ...      overcast clouds            4767\n",
              "3  2012-10-02 12:00:00       None  ...      overcast clouds            5026\n",
              "4  2012-10-02 13:00:00       None  ...        broken clouds            4918\n",
              "\n",
              "[5 rows x 15 columns]"
            ]
          },
          "metadata": {
            "tags": []
          },
          "execution_count": 92
        }
      ]
    },
    {
      "cell_type": "code",
      "metadata": {
        "colab": {
          "base_uri": "https://localhost:8080/",
          "height": 395
        },
        "id": "WxL9vDwxtg4N",
        "outputId": "a2d61e72-c1b1-4151-a886-4db0bdc3654c"
      },
      "source": [
        "test.head()"
      ],
      "execution_count": 93,
      "outputs": [
        {
          "output_type": "execute_result",
          "data": {
            "text/html": [
              "<div>\n",
              "<style scoped>\n",
              "    .dataframe tbody tr th:only-of-type {\n",
              "        vertical-align: middle;\n",
              "    }\n",
              "\n",
              "    .dataframe tbody tr th {\n",
              "        vertical-align: top;\n",
              "    }\n",
              "\n",
              "    .dataframe thead th {\n",
              "        text-align: right;\n",
              "    }\n",
              "</style>\n",
              "<table border=\"1\" class=\"dataframe\">\n",
              "  <thead>\n",
              "    <tr style=\"text-align: right;\">\n",
              "      <th></th>\n",
              "      <th>date_time</th>\n",
              "      <th>is_holiday</th>\n",
              "      <th>air_pollution_index</th>\n",
              "      <th>humidity</th>\n",
              "      <th>wind_speed</th>\n",
              "      <th>wind_direction</th>\n",
              "      <th>visibility_in_miles</th>\n",
              "      <th>dew_point</th>\n",
              "      <th>temperature</th>\n",
              "      <th>rain_p_h</th>\n",
              "      <th>snow_p_h</th>\n",
              "      <th>clouds_all</th>\n",
              "      <th>weather_type</th>\n",
              "      <th>weather_description</th>\n",
              "    </tr>\n",
              "  </thead>\n",
              "  <tbody>\n",
              "    <tr>\n",
              "      <th>0</th>\n",
              "      <td>2017-05-18 00:00:00</td>\n",
              "      <td>None</td>\n",
              "      <td>73</td>\n",
              "      <td>63</td>\n",
              "      <td>1</td>\n",
              "      <td>27</td>\n",
              "      <td>4</td>\n",
              "      <td>4</td>\n",
              "      <td>285.15</td>\n",
              "      <td>0.0</td>\n",
              "      <td>0</td>\n",
              "      <td>90</td>\n",
              "      <td>Rain</td>\n",
              "      <td>moderate rain</td>\n",
              "    </tr>\n",
              "    <tr>\n",
              "      <th>1</th>\n",
              "      <td>2017-05-18 00:00:00</td>\n",
              "      <td>None</td>\n",
              "      <td>251</td>\n",
              "      <td>63</td>\n",
              "      <td>1</td>\n",
              "      <td>27</td>\n",
              "      <td>4</td>\n",
              "      <td>4</td>\n",
              "      <td>285.15</td>\n",
              "      <td>0.0</td>\n",
              "      <td>0</td>\n",
              "      <td>90</td>\n",
              "      <td>Mist</td>\n",
              "      <td>mist</td>\n",
              "    </tr>\n",
              "    <tr>\n",
              "      <th>2</th>\n",
              "      <td>2017-05-18 00:00:00</td>\n",
              "      <td>None</td>\n",
              "      <td>75</td>\n",
              "      <td>56</td>\n",
              "      <td>1</td>\n",
              "      <td>0</td>\n",
              "      <td>1</td>\n",
              "      <td>1</td>\n",
              "      <td>285.15</td>\n",
              "      <td>0.0</td>\n",
              "      <td>0</td>\n",
              "      <td>90</td>\n",
              "      <td>Drizzle</td>\n",
              "      <td>light intensity drizzle</td>\n",
              "    </tr>\n",
              "    <tr>\n",
              "      <th>3</th>\n",
              "      <td>2017-05-18 01:00:00</td>\n",
              "      <td>None</td>\n",
              "      <td>98</td>\n",
              "      <td>56</td>\n",
              "      <td>1</td>\n",
              "      <td>351</td>\n",
              "      <td>2</td>\n",
              "      <td>2</td>\n",
              "      <td>284.79</td>\n",
              "      <td>0.0</td>\n",
              "      <td>0</td>\n",
              "      <td>90</td>\n",
              "      <td>Rain</td>\n",
              "      <td>heavy intensity rain</td>\n",
              "    </tr>\n",
              "    <tr>\n",
              "      <th>4</th>\n",
              "      <td>2017-05-18 01:00:00</td>\n",
              "      <td>None</td>\n",
              "      <td>283</td>\n",
              "      <td>56</td>\n",
              "      <td>1</td>\n",
              "      <td>351</td>\n",
              "      <td>1</td>\n",
              "      <td>1</td>\n",
              "      <td>284.79</td>\n",
              "      <td>0.0</td>\n",
              "      <td>0</td>\n",
              "      <td>90</td>\n",
              "      <td>Mist</td>\n",
              "      <td>mist</td>\n",
              "    </tr>\n",
              "  </tbody>\n",
              "</table>\n",
              "</div>"
            ],
            "text/plain": [
              "             date_time is_holiday  ...  weather_type      weather_description\n",
              "0  2017-05-18 00:00:00       None  ...          Rain            moderate rain\n",
              "1  2017-05-18 00:00:00       None  ...          Mist                     mist\n",
              "2  2017-05-18 00:00:00       None  ...       Drizzle  light intensity drizzle\n",
              "3  2017-05-18 01:00:00       None  ...          Rain     heavy intensity rain\n",
              "4  2017-05-18 01:00:00       None  ...          Mist                     mist\n",
              "\n",
              "[5 rows x 14 columns]"
            ]
          },
          "metadata": {
            "tags": []
          },
          "execution_count": 93
        }
      ]
    },
    {
      "cell_type": "code",
      "metadata": {
        "colab": {
          "base_uri": "https://localhost:8080/"
        },
        "id": "BtjEZc9PtPoK",
        "outputId": "0535a1bc-c9d6-4c78-bd8d-c3c736d91c80"
      },
      "source": [
        "train.shape\n"
      ],
      "execution_count": 94,
      "outputs": [
        {
          "output_type": "execute_result",
          "data": {
            "text/plain": [
              "(33750, 15)"
            ]
          },
          "metadata": {
            "tags": []
          },
          "execution_count": 94
        }
      ]
    },
    {
      "cell_type": "code",
      "metadata": {
        "colab": {
          "base_uri": "https://localhost:8080/"
        },
        "id": "x46deIoBzXCO",
        "outputId": "f57313d8-b048-4222-b9bd-8d27723f3e39"
      },
      "source": [
        "test.shape"
      ],
      "execution_count": 95,
      "outputs": [
        {
          "output_type": "execute_result",
          "data": {
            "text/plain": [
              "(14454, 14)"
            ]
          },
          "metadata": {
            "tags": []
          },
          "execution_count": 95
        }
      ]
    },
    {
      "cell_type": "code",
      "metadata": {
        "colab": {
          "base_uri": "https://localhost:8080/"
        },
        "id": "haJWoh3oDONi",
        "outputId": "3c144d0d-afb6-4f69-839c-c89dbfed4ec0"
      },
      "source": [
        "'''duplicateRowsDF = train[train.duplicated(['date_time'])]\n",
        "duplicateRowsDF\n",
        "train.drop_duplicates(subset =\"date_time\", keep = \"first\", inplace = True) \n",
        "'''\n",
        "#deleting the rows with duplicated date_time column\n",
        "train = train[train['date_time'].duplicated()==False]\n",
        "train.shape"
      ],
      "execution_count": 96,
      "outputs": [
        {
          "output_type": "execute_result",
          "data": {
            "text/plain": [
              "(28589, 15)"
            ]
          },
          "metadata": {
            "tags": []
          },
          "execution_count": 96
        }
      ]
    },
    {
      "cell_type": "code",
      "metadata": {
        "colab": {
          "base_uri": "https://localhost:8080/"
        },
        "id": "6cVoaRX0zeOn",
        "outputId": "198084be-3067-4598-ba26-69964255fec0"
      },
      "source": [
        "#Finding missing vaules in dataset\n",
        "train.isnull().sum()"
      ],
      "execution_count": 97,
      "outputs": [
        {
          "output_type": "execute_result",
          "data": {
            "text/plain": [
              "date_time              0\n",
              "is_holiday             0\n",
              "air_pollution_index    0\n",
              "humidity               0\n",
              "wind_speed             0\n",
              "wind_direction         0\n",
              "visibility_in_miles    0\n",
              "dew_point              0\n",
              "temperature            0\n",
              "rain_p_h               0\n",
              "snow_p_h               0\n",
              "clouds_all             0\n",
              "weather_type           0\n",
              "weather_description    0\n",
              "traffic_volume         0\n",
              "dtype: int64"
            ]
          },
          "metadata": {
            "tags": []
          },
          "execution_count": 97
        }
      ]
    },
    {
      "cell_type": "code",
      "metadata": {
        "id": "ny1yw2uaD9CX",
        "colab": {
          "base_uri": "https://localhost:8080/"
        },
        "outputId": "267c5229-a3d8-44b9-9258-f93efb7befba"
      },
      "source": [
        "test.isnull().sum()\n"
      ],
      "execution_count": 98,
      "outputs": [
        {
          "output_type": "execute_result",
          "data": {
            "text/plain": [
              "date_time              0\n",
              "is_holiday             0\n",
              "air_pollution_index    0\n",
              "humidity               0\n",
              "wind_speed             0\n",
              "wind_direction         0\n",
              "visibility_in_miles    0\n",
              "dew_point              0\n",
              "temperature            0\n",
              "rain_p_h               0\n",
              "snow_p_h               0\n",
              "clouds_all             0\n",
              "weather_type           0\n",
              "weather_description    0\n",
              "dtype: int64"
            ]
          },
          "metadata": {
            "tags": []
          },
          "execution_count": 98
        }
      ]
    },
    {
      "cell_type": "code",
      "metadata": {
        "colab": {
          "base_uri": "https://localhost:8080/",
          "height": 314
        },
        "id": "PAnvR1EVtWQs",
        "outputId": "c0e66ade-b0c4-4ab5-e0ed-b2f433eb578d"
      },
      "source": [
        "train.describe() #statistical info"
      ],
      "execution_count": 99,
      "outputs": [
        {
          "output_type": "execute_result",
          "data": {
            "text/html": [
              "<div>\n",
              "<style scoped>\n",
              "    .dataframe tbody tr th:only-of-type {\n",
              "        vertical-align: middle;\n",
              "    }\n",
              "\n",
              "    .dataframe tbody tr th {\n",
              "        vertical-align: top;\n",
              "    }\n",
              "\n",
              "    .dataframe thead th {\n",
              "        text-align: right;\n",
              "    }\n",
              "</style>\n",
              "<table border=\"1\" class=\"dataframe\">\n",
              "  <thead>\n",
              "    <tr style=\"text-align: right;\">\n",
              "      <th></th>\n",
              "      <th>air_pollution_index</th>\n",
              "      <th>humidity</th>\n",
              "      <th>wind_speed</th>\n",
              "      <th>wind_direction</th>\n",
              "      <th>visibility_in_miles</th>\n",
              "      <th>dew_point</th>\n",
              "      <th>temperature</th>\n",
              "      <th>rain_p_h</th>\n",
              "      <th>snow_p_h</th>\n",
              "      <th>clouds_all</th>\n",
              "      <th>traffic_volume</th>\n",
              "    </tr>\n",
              "  </thead>\n",
              "  <tbody>\n",
              "    <tr>\n",
              "      <th>count</th>\n",
              "      <td>28589.000000</td>\n",
              "      <td>28589.000000</td>\n",
              "      <td>28589.000000</td>\n",
              "      <td>28589.000000</td>\n",
              "      <td>28589.000000</td>\n",
              "      <td>28589.000000</td>\n",
              "      <td>28589.000000</td>\n",
              "      <td>28589.000000</td>\n",
              "      <td>28589.000000</td>\n",
              "      <td>28589.000000</td>\n",
              "      <td>28589.000000</td>\n",
              "    </tr>\n",
              "    <tr>\n",
              "      <th>mean</th>\n",
              "      <td>154.970898</td>\n",
              "      <td>70.991675</td>\n",
              "      <td>3.393403</td>\n",
              "      <td>199.515688</td>\n",
              "      <td>4.985659</td>\n",
              "      <td>4.985659</td>\n",
              "      <td>280.210202</td>\n",
              "      <td>0.437223</td>\n",
              "      <td>0.000166</td>\n",
              "      <td>45.457659</td>\n",
              "      <td>3266.878380</td>\n",
              "    </tr>\n",
              "    <tr>\n",
              "      <th>std</th>\n",
              "      <td>83.774034</td>\n",
              "      <td>16.908355</td>\n",
              "      <td>2.074673</td>\n",
              "      <td>99.394089</td>\n",
              "      <td>2.573178</td>\n",
              "      <td>2.573178</td>\n",
              "      <td>13.956662</td>\n",
              "      <td>58.151212</td>\n",
              "      <td>0.006762</td>\n",
              "      <td>38.713725</td>\n",
              "      <td>1989.318912</td>\n",
              "    </tr>\n",
              "    <tr>\n",
              "      <th>min</th>\n",
              "      <td>10.000000</td>\n",
              "      <td>13.000000</td>\n",
              "      <td>0.000000</td>\n",
              "      <td>0.000000</td>\n",
              "      <td>1.000000</td>\n",
              "      <td>1.000000</td>\n",
              "      <td>0.000000</td>\n",
              "      <td>0.000000</td>\n",
              "      <td>0.000000</td>\n",
              "      <td>0.000000</td>\n",
              "      <td>0.000000</td>\n",
              "    </tr>\n",
              "    <tr>\n",
              "      <th>25%</th>\n",
              "      <td>83.000000</td>\n",
              "      <td>60.000000</td>\n",
              "      <td>2.000000</td>\n",
              "      <td>130.000000</td>\n",
              "      <td>3.000000</td>\n",
              "      <td>3.000000</td>\n",
              "      <td>271.280000</td>\n",
              "      <td>0.000000</td>\n",
              "      <td>0.000000</td>\n",
              "      <td>1.000000</td>\n",
              "      <td>1215.000000</td>\n",
              "    </tr>\n",
              "    <tr>\n",
              "      <th>50%</th>\n",
              "      <td>156.000000</td>\n",
              "      <td>72.000000</td>\n",
              "      <td>3.000000</td>\n",
              "      <td>200.000000</td>\n",
              "      <td>5.000000</td>\n",
              "      <td>5.000000</td>\n",
              "      <td>280.680000</td>\n",
              "      <td>0.000000</td>\n",
              "      <td>0.000000</td>\n",
              "      <td>40.000000</td>\n",
              "      <td>3369.000000</td>\n",
              "    </tr>\n",
              "    <tr>\n",
              "      <th>75%</th>\n",
              "      <td>228.000000</td>\n",
              "      <td>85.000000</td>\n",
              "      <td>5.000000</td>\n",
              "      <td>290.000000</td>\n",
              "      <td>7.000000</td>\n",
              "      <td>7.000000</td>\n",
              "      <td>291.140000</td>\n",
              "      <td>0.000000</td>\n",
              "      <td>0.000000</td>\n",
              "      <td>90.000000</td>\n",
              "      <td>4944.000000</td>\n",
              "    </tr>\n",
              "    <tr>\n",
              "      <th>max</th>\n",
              "      <td>299.000000</td>\n",
              "      <td>100.000000</td>\n",
              "      <td>16.000000</td>\n",
              "      <td>360.000000</td>\n",
              "      <td>9.000000</td>\n",
              "      <td>9.000000</td>\n",
              "      <td>308.240000</td>\n",
              "      <td>9831.300000</td>\n",
              "      <td>0.510000</td>\n",
              "      <td>100.000000</td>\n",
              "      <td>7280.000000</td>\n",
              "    </tr>\n",
              "  </tbody>\n",
              "</table>\n",
              "</div>"
            ],
            "text/plain": [
              "       air_pollution_index      humidity  ...    clouds_all  traffic_volume\n",
              "count         28589.000000  28589.000000  ...  28589.000000    28589.000000\n",
              "mean            154.970898     70.991675  ...     45.457659     3266.878380\n",
              "std              83.774034     16.908355  ...     38.713725     1989.318912\n",
              "min              10.000000     13.000000  ...      0.000000        0.000000\n",
              "25%              83.000000     60.000000  ...      1.000000     1215.000000\n",
              "50%             156.000000     72.000000  ...     40.000000     3369.000000\n",
              "75%             228.000000     85.000000  ...     90.000000     4944.000000\n",
              "max             299.000000    100.000000  ...    100.000000     7280.000000\n",
              "\n",
              "[8 rows x 11 columns]"
            ]
          },
          "metadata": {
            "tags": []
          },
          "execution_count": 99
        }
      ]
    },
    {
      "cell_type": "code",
      "metadata": {
        "colab": {
          "base_uri": "https://localhost:8080/"
        },
        "id": "93ur_i9a4j6O",
        "outputId": "6bb744e3-cd58-45e5-ac81-d8a6f62b37fe"
      },
      "source": [
        "train.dtypes"
      ],
      "execution_count": 100,
      "outputs": [
        {
          "output_type": "execute_result",
          "data": {
            "text/plain": [
              "date_time               object\n",
              "is_holiday              object\n",
              "air_pollution_index      int64\n",
              "humidity                 int64\n",
              "wind_speed               int64\n",
              "wind_direction           int64\n",
              "visibility_in_miles      int64\n",
              "dew_point                int64\n",
              "temperature            float64\n",
              "rain_p_h               float64\n",
              "snow_p_h               float64\n",
              "clouds_all               int64\n",
              "weather_type            object\n",
              "weather_description     object\n",
              "traffic_volume           int64\n",
              "dtype: object"
            ]
          },
          "metadata": {
            "tags": []
          },
          "execution_count": 100
        }
      ]
    },
    {
      "cell_type": "code",
      "metadata": {
        "id": "0lE4GzidQxOQ"
      },
      "source": [
        "#Converting is_holiday column to categorical\n",
        "#Alternative to Label Encoding\n",
        "train['is_holiday']=train['is_holiday'].apply(lambda x: 1 if x!='None' else 0)\n"
      ],
      "execution_count": 101,
      "outputs": []
    },
    {
      "cell_type": "markdown",
      "metadata": {
        "id": "l1XMeECTdX0f"
      },
      "source": [
        "I decided to adopt a mapping approach of converting holiday into an ordinal set of 2 categories -- 0 and 1 where 0 represents \"None\" and 1 represents a holiday. In this case, I assumed that the types of holidays do not have a significant effect on traffic_volume, just the fact that it is a holiday does.\n",
        "\n"
      ]
    },
    {
      "cell_type": "code",
      "metadata": {
        "colab": {
          "base_uri": "https://localhost:8080/"
        },
        "id": "fgagi__mZpzA",
        "outputId": "aa2ef04b-40ac-4ca6-9c77-00a1ff2743b0"
      },
      "source": [
        "#One Hot Encoding\n",
        "dummies_weather = pd.get_dummies(train['weather_type'])\n",
        "dummies_weather\n",
        "train = train.drop('weather_type', axis = 1)\n",
        "train = pd.concat([train, dummies_weather], axis='columns')\n",
        "print(train.columns)"
      ],
      "execution_count": 102,
      "outputs": [
        {
          "output_type": "stream",
          "text": [
            "Index(['date_time', 'is_holiday', 'air_pollution_index', 'humidity',\n",
            "       'wind_speed', 'wind_direction', 'visibility_in_miles', 'dew_point',\n",
            "       'temperature', 'rain_p_h', 'snow_p_h', 'clouds_all',\n",
            "       'weather_description', 'traffic_volume', 'Clear', 'Clouds', 'Drizzle',\n",
            "       'Fog', 'Haze', 'Mist', 'Rain', 'Smoke', 'Snow', 'Squall',\n",
            "       'Thunderstorm'],\n",
            "      dtype='object')\n"
          ],
          "name": "stdout"
        }
      ]
    },
    {
      "cell_type": "code",
      "metadata": {
        "colab": {
          "base_uri": "https://localhost:8080/",
          "height": 70
        },
        "id": "IHmynB05cJSO",
        "outputId": "0f6f8980-7bca-4e12-bdb7-9bfa1029d866"
      },
      "source": [
        "''''\n",
        "#Don't underestimate any feature\n",
        "dummies_weather2 = pd.get_dummies(train['weather_description'])\n",
        "dummies_weather2\n",
        "train = train.drop('weather_description', axis = 1)\n",
        "train = pd.concat([train, dummies_weather2], axis='columns')\n",
        "print(train.columns)\n",
        "'''"
      ],
      "execution_count": 103,
      "outputs": [
        {
          "output_type": "execute_result",
          "data": {
            "application/vnd.google.colaboratory.intrinsic+json": {
              "type": "string"
            },
            "text/plain": [
              "\"'\\n#Don't underestimate any feature\\ndummies_weather2 = pd.get_dummies(train['weather_description'])\\ndummies_weather2\\ntrain = train.drop('weather_description', axis = 1)\\ntrain = pd.concat([train, dummies_weather2], axis='columns')\\nprint(train.columns)\\n\""
            ]
          },
          "metadata": {
            "tags": []
          },
          "execution_count": 103
        }
      ]
    },
    {
      "cell_type": "markdown",
      "metadata": {
        "id": "F6brnU1pcslL"
      },
      "source": [
        "I decided to use one hot encoding to convert weather_main & weather_description into a set of dummy variables as we do not want the machine to establish any relations such as drizzle > sky is clear for e.g."
      ]
    },
    {
      "cell_type": "code",
      "metadata": {
        "id": "kbgV8YYbCaHl",
        "colab": {
          "base_uri": "https://localhost:8080/",
          "height": 257
        },
        "outputId": "87063e73-07a6-4fb3-bb34-d44923a6892e"
      },
      "source": [
        "from datetime import datetime\n",
        "train['date_time'] = pd.to_datetime(train.date_time)\n",
        "train['year'] = train['date_time'].dt.year\n",
        "train['month'] = train['date_time'].dt.month\n",
        "train['day'] = train['date_time'].dt.day\n",
        "train['dayofyear'] = train['date_time'].dt.dayofyear\n",
        "train['weekofyear'] = train['date_time'].dt.weekofyear\n",
        "#train['dayofweek'] = train['date_time'].dt.dayofweek\n",
        "train['hour'] = train['date_time'].dt.hour\n",
        "\n",
        "#if day is 5th-Saturday or 6th-Sunday , then it is a weekend\n",
        "d1 = {5:1,6:1,1:0,2:0,3:0,4:0,0:0}\n",
        "#creating new features\n",
        "train['is_weekend']=train.date_time.dt.dayofweek\n",
        "train['is_weekend']=train['is_weekend'].map(d1)\n",
        "train = train.drop(columns=['date_time','weather_description','air_pollution_index','humidity','temperature','wind_direction'])\n",
        "train=train.drop(columns=['Squall'])\n",
        "train.head()"
      ],
      "execution_count": 104,
      "outputs": [
        {
          "output_type": "stream",
          "text": [
            "/usr/local/lib/python3.7/dist-packages/ipykernel_launcher.py:7: FutureWarning: Series.dt.weekofyear and Series.dt.week have been deprecated.  Please use Series.dt.isocalendar().week instead.\n",
            "  import sys\n"
          ],
          "name": "stderr"
        },
        {
          "output_type": "execute_result",
          "data": {
            "text/html": [
              "<div>\n",
              "<style scoped>\n",
              "    .dataframe tbody tr th:only-of-type {\n",
              "        vertical-align: middle;\n",
              "    }\n",
              "\n",
              "    .dataframe tbody tr th {\n",
              "        vertical-align: top;\n",
              "    }\n",
              "\n",
              "    .dataframe thead th {\n",
              "        text-align: right;\n",
              "    }\n",
              "</style>\n",
              "<table border=\"1\" class=\"dataframe\">\n",
              "  <thead>\n",
              "    <tr style=\"text-align: right;\">\n",
              "      <th></th>\n",
              "      <th>is_holiday</th>\n",
              "      <th>wind_speed</th>\n",
              "      <th>visibility_in_miles</th>\n",
              "      <th>dew_point</th>\n",
              "      <th>rain_p_h</th>\n",
              "      <th>snow_p_h</th>\n",
              "      <th>clouds_all</th>\n",
              "      <th>traffic_volume</th>\n",
              "      <th>Clear</th>\n",
              "      <th>Clouds</th>\n",
              "      <th>Drizzle</th>\n",
              "      <th>Fog</th>\n",
              "      <th>Haze</th>\n",
              "      <th>Mist</th>\n",
              "      <th>Rain</th>\n",
              "      <th>Smoke</th>\n",
              "      <th>Snow</th>\n",
              "      <th>Thunderstorm</th>\n",
              "      <th>year</th>\n",
              "      <th>month</th>\n",
              "      <th>day</th>\n",
              "      <th>dayofyear</th>\n",
              "      <th>weekofyear</th>\n",
              "      <th>hour</th>\n",
              "      <th>is_weekend</th>\n",
              "    </tr>\n",
              "  </thead>\n",
              "  <tbody>\n",
              "    <tr>\n",
              "      <th>0</th>\n",
              "      <td>0</td>\n",
              "      <td>2</td>\n",
              "      <td>1</td>\n",
              "      <td>1</td>\n",
              "      <td>0.0</td>\n",
              "      <td>0.0</td>\n",
              "      <td>40</td>\n",
              "      <td>5545</td>\n",
              "      <td>0</td>\n",
              "      <td>1</td>\n",
              "      <td>0</td>\n",
              "      <td>0</td>\n",
              "      <td>0</td>\n",
              "      <td>0</td>\n",
              "      <td>0</td>\n",
              "      <td>0</td>\n",
              "      <td>0</td>\n",
              "      <td>0</td>\n",
              "      <td>2012</td>\n",
              "      <td>10</td>\n",
              "      <td>2</td>\n",
              "      <td>276</td>\n",
              "      <td>40</td>\n",
              "      <td>9</td>\n",
              "      <td>0</td>\n",
              "    </tr>\n",
              "    <tr>\n",
              "      <th>1</th>\n",
              "      <td>0</td>\n",
              "      <td>3</td>\n",
              "      <td>1</td>\n",
              "      <td>1</td>\n",
              "      <td>0.0</td>\n",
              "      <td>0.0</td>\n",
              "      <td>75</td>\n",
              "      <td>4516</td>\n",
              "      <td>0</td>\n",
              "      <td>1</td>\n",
              "      <td>0</td>\n",
              "      <td>0</td>\n",
              "      <td>0</td>\n",
              "      <td>0</td>\n",
              "      <td>0</td>\n",
              "      <td>0</td>\n",
              "      <td>0</td>\n",
              "      <td>0</td>\n",
              "      <td>2012</td>\n",
              "      <td>10</td>\n",
              "      <td>2</td>\n",
              "      <td>276</td>\n",
              "      <td>40</td>\n",
              "      <td>10</td>\n",
              "      <td>0</td>\n",
              "    </tr>\n",
              "    <tr>\n",
              "      <th>2</th>\n",
              "      <td>0</td>\n",
              "      <td>3</td>\n",
              "      <td>2</td>\n",
              "      <td>2</td>\n",
              "      <td>0.0</td>\n",
              "      <td>0.0</td>\n",
              "      <td>90</td>\n",
              "      <td>4767</td>\n",
              "      <td>0</td>\n",
              "      <td>1</td>\n",
              "      <td>0</td>\n",
              "      <td>0</td>\n",
              "      <td>0</td>\n",
              "      <td>0</td>\n",
              "      <td>0</td>\n",
              "      <td>0</td>\n",
              "      <td>0</td>\n",
              "      <td>0</td>\n",
              "      <td>2012</td>\n",
              "      <td>10</td>\n",
              "      <td>2</td>\n",
              "      <td>276</td>\n",
              "      <td>40</td>\n",
              "      <td>11</td>\n",
              "      <td>0</td>\n",
              "    </tr>\n",
              "    <tr>\n",
              "      <th>3</th>\n",
              "      <td>0</td>\n",
              "      <td>3</td>\n",
              "      <td>5</td>\n",
              "      <td>5</td>\n",
              "      <td>0.0</td>\n",
              "      <td>0.0</td>\n",
              "      <td>90</td>\n",
              "      <td>5026</td>\n",
              "      <td>0</td>\n",
              "      <td>1</td>\n",
              "      <td>0</td>\n",
              "      <td>0</td>\n",
              "      <td>0</td>\n",
              "      <td>0</td>\n",
              "      <td>0</td>\n",
              "      <td>0</td>\n",
              "      <td>0</td>\n",
              "      <td>0</td>\n",
              "      <td>2012</td>\n",
              "      <td>10</td>\n",
              "      <td>2</td>\n",
              "      <td>276</td>\n",
              "      <td>40</td>\n",
              "      <td>12</td>\n",
              "      <td>0</td>\n",
              "    </tr>\n",
              "    <tr>\n",
              "      <th>4</th>\n",
              "      <td>0</td>\n",
              "      <td>3</td>\n",
              "      <td>7</td>\n",
              "      <td>7</td>\n",
              "      <td>0.0</td>\n",
              "      <td>0.0</td>\n",
              "      <td>75</td>\n",
              "      <td>4918</td>\n",
              "      <td>0</td>\n",
              "      <td>1</td>\n",
              "      <td>0</td>\n",
              "      <td>0</td>\n",
              "      <td>0</td>\n",
              "      <td>0</td>\n",
              "      <td>0</td>\n",
              "      <td>0</td>\n",
              "      <td>0</td>\n",
              "      <td>0</td>\n",
              "      <td>2012</td>\n",
              "      <td>10</td>\n",
              "      <td>2</td>\n",
              "      <td>276</td>\n",
              "      <td>40</td>\n",
              "      <td>13</td>\n",
              "      <td>0</td>\n",
              "    </tr>\n",
              "  </tbody>\n",
              "</table>\n",
              "</div>"
            ],
            "text/plain": [
              "   is_holiday  wind_speed  visibility_in_miles  ...  weekofyear  hour  is_weekend\n",
              "0           0           2                    1  ...          40     9           0\n",
              "1           0           3                    1  ...          40    10           0\n",
              "2           0           3                    2  ...          40    11           0\n",
              "3           0           3                    5  ...          40    12           0\n",
              "4           0           3                    7  ...          40    13           0\n",
              "\n",
              "[5 rows x 25 columns]"
            ]
          },
          "metadata": {
            "tags": []
          },
          "execution_count": 104
        }
      ]
    },
    {
      "cell_type": "code",
      "metadata": {
        "colab": {
          "base_uri": "https://localhost:8080/"
        },
        "id": "V9tbTSvkE8Yc",
        "outputId": "61333eba-4aa3-4969-b034-25257fa816d2"
      },
      "source": [
        "#Converting is_holiday column to categorical\n",
        "#Alternative to Label Encoding\n",
        "test['is_holiday']=test['is_holiday'].apply(lambda x: 1 if x!='None' else 0)\n",
        "#One Hot Encoding\n",
        "dummies_weather = pd.get_dummies(test['weather_type'])\n",
        "dummies_weather\n",
        "test = test.drop('weather_type', axis = 1)\n",
        "test = pd.concat([test, dummies_weather], axis='columns')\n",
        "\n",
        "'''\n",
        "#One hot encoding for weather description\n",
        "dummies_weather2 = pd.get_dummies(test['weather_description'])\n",
        "dummies_weather2\n",
        "test = test.drop('weather_description', axis = 1)\n",
        "test = pd.concat([test, dummies_weather2], axis='columns')\n",
        "'''\n",
        "from datetime import datetime\n",
        "test['date_time'] = pd.to_datetime(test.date_time)\n",
        "test['year'] = test['date_time'].dt.year\n",
        "test['month'] = test['date_time'].dt.month\n",
        "test['day'] = test['date_time'].dt.day\n",
        "test['dayofyear'] = test['date_time'].dt.dayofyear\n",
        "test['weekofyear'] = test['date_time'].dt.weekofyear\n",
        "#test['dayofweek'] = test['date_time'].dt.dayofweek\n",
        "test['hour'] = test['date_time'].dt.hour\n",
        "\n",
        "#if day is 5th-Saturday or 6th-Sunday , then it is a weekend\n",
        "d2 = {5:1,6:1,1:0,2:0,3:0,4:0,0:0}\n",
        "#creating new features\n",
        "test['is_weekend']=test.date_time.dt.dayofweek\n",
        "test['is_weekend']=test['is_weekend'].map(d2)\n",
        "x_test = test.drop(columns=['date_time','weather_description','air_pollution_index','humidity','temperature','wind_direction'])\n",
        "x_test.shape\n"
      ],
      "execution_count": 105,
      "outputs": [
        {
          "output_type": "stream",
          "text": [
            "/usr/local/lib/python3.7/dist-packages/ipykernel_launcher.py:23: FutureWarning: Series.dt.weekofyear and Series.dt.week have been deprecated.  Please use Series.dt.isocalendar().week instead.\n"
          ],
          "name": "stderr"
        },
        {
          "output_type": "execute_result",
          "data": {
            "text/plain": [
              "(14454, 24)"
            ]
          },
          "metadata": {
            "tags": []
          },
          "execution_count": 105
        }
      ]
    },
    {
      "cell_type": "code",
      "metadata": {
        "id": "LZxdhYxjDlkT"
      },
      "source": [
        "x_train=train.drop(columns=['traffic_volume'])\n",
        "y_train=train['traffic_volume']\n"
      ],
      "execution_count": 106,
      "outputs": []
    },
    {
      "cell_type": "code",
      "metadata": {
        "colab": {
          "base_uri": "https://localhost:8080/"
        },
        "id": "_LKjcWh0M7BV",
        "outputId": "6cb96d1e-03eb-40c4-cd00-c1cdfed53454"
      },
      "source": [
        "print(train.shape)\n",
        "print(x_test.shape)"
      ],
      "execution_count": 107,
      "outputs": [
        {
          "output_type": "stream",
          "text": [
            "(28589, 25)\n",
            "(14454, 24)\n"
          ],
          "name": "stdout"
        }
      ]
    },
    {
      "cell_type": "code",
      "metadata": {
        "colab": {
          "base_uri": "https://localhost:8080/"
        },
        "id": "Bn1aYkz9SwPk",
        "outputId": "7d6ca461-5764-42fc-8c80-7f904de3debc"
      },
      "source": [
        "\n",
        "#Using random Forest Regression\n",
        "from sklearn.ensemble import RandomForestRegressor\n",
        "from sklearn.model_selection import KFold,cross_val_score\n",
        "random_model = RandomForestRegressor(n_estimators=20)\n",
        "random_model.fit(x_train,y_train)\n",
        "cross_val_score(estimator=random_model,X=x_train, y=y_train,cv=5).mean()\n",
        "\n"
      ],
      "execution_count": 108,
      "outputs": [
        {
          "output_type": "execute_result",
          "data": {
            "text/plain": [
              "0.926440433284186"
            ]
          },
          "metadata": {
            "tags": []
          },
          "execution_count": 108
        }
      ]
    },
    {
      "cell_type": "code",
      "metadata": {
        "colab": {
          "base_uri": "https://localhost:8080/"
        },
        "id": "853ULhXc9HHx",
        "outputId": "33959a81-bf14-474f-9fcb-6649ee406122"
      },
      "source": [
        "\n",
        "random_pred=random_model.predict(x_test)\n",
        "random_pred=list(random_pred)\n",
        "random_pred_int = [float(round(i)) for i in random_pred]\n",
        "print(len(random_pred))"
      ],
      "execution_count": 109,
      "outputs": [
        {
          "output_type": "stream",
          "text": [
            "14454\n"
          ],
          "name": "stdout"
        }
      ]
    },
    {
      "cell_type": "code",
      "metadata": {
        "id": "W5-PrX7n_BE2"
      },
      "source": [
        "\n",
        "submission=pd.DataFrame()\n",
        "submission['date_time']=test['date_time']\n",
        "submission['traffic_volume']=random_pred_int\n",
        "submission.to_csv('submission.csv',index=False)\n"
      ],
      "execution_count": 110,
      "outputs": []
    }
  ]
}